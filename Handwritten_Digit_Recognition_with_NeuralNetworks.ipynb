{
  "nbformat": 4,
  "nbformat_minor": 0,
  "metadata": {
    "colab": {
      "provenance": []
    },
    "kernelspec": {
      "name": "python3",
      "display_name": "Python 3"
    },
    "language_info": {
      "name": "python"
    }
  },
  "cells": [
    {
      "cell_type": "code",
      "execution_count": 2,
      "metadata": {
        "id": "9sYvj88h2LdR"
      },
      "outputs": [],
      "source": [
        "import tensorflow as tf\n",
        "from tensorflow.keras.datasets import mnist\n",
        "from tensorflow.keras.models import Sequential\n",
        "from tensorflow.keras.layers import Dense, Flatten\n",
        "from tensorflow.keras.utils import to_categorical\n",
        "from sklearn.metrics import accuracy_score, precision_score, recall_score, f1_score"
      ]
    },
    {
      "cell_type": "code",
      "source": [
        "# Step 1: Load and preprocess the data\n",
        "(x_train, y_train), (x_test, y_test) = mnist.load_data()\n",
        "\n",
        "# Normalize pixel values to between 0 and 1\n",
        "x_train = x_train / 255.0\n",
        "x_test = x_test / 255.0\n",
        "\n",
        "# One-hot encode the labels\n",
        "y_train = to_categorical(y_train, num_classes=10)\n",
        "y_test = to_categorical(y_test, num_classes=10)"
      ],
      "metadata": {
        "id": "6cwnuuAy-Lrl"
      },
      "execution_count": 3,
      "outputs": []
    },
    {
      "cell_type": "code",
      "source": [
        "# Step 2: Build the model\n",
        "model = Sequential([\n",
        "    Flatten(input_shape=(28, 28)),  # Flatten the input images\n",
        "    Dense(128, activation='relu'),  # First hidden layer with 128 neurons and ReLU activation\n",
        "    Dense(64, activation='relu'),   # Second hidden layer with 64 neurons and ReLU activation\n",
        "    Dense(10, activation='softmax') # Output layer with 10 neurons for 10 classes and softmax activation\n",
        "])\n"
      ],
      "metadata": {
        "id": "cPbMzcar-RBK"
      },
      "execution_count": 4,
      "outputs": []
    },
    {
      "cell_type": "code",
      "source": [
        "# Step 3: Compile the model\n",
        "model.compile(optimizer='adam', loss='categorical_crossentropy', metrics=['accuracy'])"
      ],
      "metadata": {
        "id": "D9MIK0rf-Uqh"
      },
      "execution_count": 5,
      "outputs": []
    },
    {
      "cell_type": "code",
      "source": [
        "# Step 4: Train the model\n",
        "model.fit(x_train, y_train, epochs=10, batch_size=32, validation_split=0.2)"
      ],
      "metadata": {
        "colab": {
          "base_uri": "https://localhost:8080/"
        },
        "id": "qPxh-WxC-bV6",
        "outputId": "560d3c87-34eb-4c37-eadd-75e1e6f6635e"
      },
      "execution_count": 6,
      "outputs": [
        {
          "output_type": "stream",
          "name": "stdout",
          "text": [
            "Epoch 1/10\n",
            "1500/1500 [==============================] - 6s 3ms/step - loss: 0.2667 - accuracy: 0.9218 - val_loss: 0.1412 - val_accuracy: 0.9580\n",
            "Epoch 2/10\n",
            "1500/1500 [==============================] - 6s 4ms/step - loss: 0.1120 - accuracy: 0.9664 - val_loss: 0.1118 - val_accuracy: 0.9668\n",
            "Epoch 3/10\n",
            "1500/1500 [==============================] - 5s 4ms/step - loss: 0.0736 - accuracy: 0.9772 - val_loss: 0.0981 - val_accuracy: 0.9690\n",
            "Epoch 4/10\n",
            "1500/1500 [==============================] - 5s 3ms/step - loss: 0.0570 - accuracy: 0.9823 - val_loss: 0.1074 - val_accuracy: 0.9690\n",
            "Epoch 5/10\n",
            "1500/1500 [==============================] - 8s 5ms/step - loss: 0.0448 - accuracy: 0.9862 - val_loss: 0.0859 - val_accuracy: 0.9747\n",
            "Epoch 6/10\n",
            "1500/1500 [==============================] - 5s 3ms/step - loss: 0.0345 - accuracy: 0.9889 - val_loss: 0.1006 - val_accuracy: 0.9722\n",
            "Epoch 7/10\n",
            "1500/1500 [==============================] - 6s 4ms/step - loss: 0.0301 - accuracy: 0.9906 - val_loss: 0.1130 - val_accuracy: 0.9718\n",
            "Epoch 8/10\n",
            "1500/1500 [==============================] - 6s 4ms/step - loss: 0.0245 - accuracy: 0.9918 - val_loss: 0.1063 - val_accuracy: 0.9743\n",
            "Epoch 9/10\n",
            "1500/1500 [==============================] - 5s 3ms/step - loss: 0.0231 - accuracy: 0.9926 - val_loss: 0.1070 - val_accuracy: 0.9741\n",
            "Epoch 10/10\n",
            "1500/1500 [==============================] - 7s 4ms/step - loss: 0.0192 - accuracy: 0.9937 - val_loss: 0.1045 - val_accuracy: 0.9752\n"
          ]
        },
        {
          "output_type": "execute_result",
          "data": {
            "text/plain": [
              "<keras.src.callbacks.History at 0x7c2a074429b0>"
            ]
          },
          "metadata": {},
          "execution_count": 6
        }
      ]
    },
    {
      "cell_type": "code",
      "source": [
        "# Step 5: Evaluate the model\n",
        "y_pred = model.predict(x_test)\n",
        "y_pred_classes = tf.argmax(y_pred, axis=1)\n",
        "y_test_classes = tf.argmax(y_test, axis=1)\n",
        "\n",
        "accuracy = accuracy_score(y_test_classes, y_pred_classes)\n",
        "precision = precision_score(y_test_classes, y_pred_classes, average='macro')\n",
        "recall = recall_score(y_test_classes, y_pred_classes, average='macro')\n",
        "f1 = f1_score(y_test_classes, y_pred_classes, average='macro')\n",
        "\n",
        "print(\"Accuracy:\", accuracy)\n",
        "print(\"Precision:\", precision)\n",
        "print(\"Recall:\", recall)\n",
        "print(\"F1-score:\", f1)"
      ],
      "metadata": {
        "colab": {
          "base_uri": "https://localhost:8080/"
        },
        "id": "cUUpTqwl-ZMI",
        "outputId": "85a2fa73-03fb-4ea6-cbe7-e488f90a657a"
      },
      "execution_count": 7,
      "outputs": [
        {
          "output_type": "stream",
          "name": "stdout",
          "text": [
            "313/313 [==============================] - 1s 2ms/step\n",
            "Accuracy: 0.9776\n",
            "Precision: 0.9774078386569837\n",
            "Recall: 0.9773089775322511\n",
            "F1-score: 0.9773270215323357\n"
          ]
        }
      ]
    }
  ]
}